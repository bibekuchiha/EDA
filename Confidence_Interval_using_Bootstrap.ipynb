{
  "nbformat": 4,
  "nbformat_minor": 0,
  "metadata": {
    "colab": {
      "name": "Confidence Interval using Bootstrap.ipynb",
      "provenance": [],
      "include_colab_link": true
    },
    "kernelspec": {
      "display_name": "Python 3",
      "language": "python",
      "name": "python3"
    }
  },
  "cells": [
    {
      "cell_type": "markdown",
      "metadata": {
        "id": "view-in-github",
        "colab_type": "text"
      },
      "source": [
        "<a href=\"https://colab.research.google.com/github/bibekuchiha/EDA/blob/master/Confidence_Interval_using_Bootstrap.ipynb\" target=\"_parent\"><img src=\"https://colab.research.google.com/assets/colab-badge.svg\" alt=\"Open In Colab\"/></a>"
      ]
    },
    {
      "cell_type": "markdown",
      "metadata": {
        "id": "fct-NTjcYNZ0",
        "colab_type": "text"
      },
      "source": [
        "# Empirical bootstrap based Confidence Interval"
      ]
    },
    {
      "cell_type": "code",
      "metadata": {
        "id": "1Z7NCqEcYNZ4",
        "colab_type": "code",
        "colab": {
          "base_uri": "https://localhost:8080/",
          "height": 282
        },
        "outputId": "07d0eadc-968b-40af-f52a-2f14c058b83c"
      },
      "source": [
        "import numpy\n",
        "from pandas import read_csv\n",
        "from sklearn.utils import resample\n",
        "from sklearn.metrics import accuracy_score\n",
        "from matplotlib import pyplot\n",
        "\n",
        "# load dataset\n",
        "x = numpy.array([180,162,158,172,168,150,171,183,165,176])\n",
        "''' lets say that the x denotes the value of a height in cm\n",
        "   and lets assume x is S as we studied in a Theory of Confidence Interval\n",
        "   using Bootstrap.\n",
        "   '''\n",
        "\n",
        "# configure bootstrap\n",
        "n_iterations = 1000 \n",
        "n_size = int(len(x))\n",
        "''' Here n_iteration is K and n_size is m'''\n",
        "\n",
        "# run bootstrap\n",
        "medians = list()\n",
        "for i in range(n_iterations):\n",
        "    # prepare train and test sets\n",
        "    s = resample(x, n_samples=n_size);\n",
        "    m = numpy.median(s);\n",
        "    #print(m)\n",
        "    medians.append(m)\n",
        "    '''Here s is a sample of S, m is a median value from s'''\n",
        "\n",
        "# plot scores\n",
        "pyplot.hist(medians)\n",
        "pyplot.show()\n",
        "\n",
        "# confidence intervals\n",
        "alpha = 0.95\n",
        "p = ((1.0-alpha)/2.0) * 100\n",
        "lower =  numpy.percentile(medians, p)\n",
        "\n",
        "p = (alpha+((1.0-alpha)/2.0)) * 100\n",
        "upper =  numpy.percentile(medians, p)\n",
        "print('%.1f confidence interval %.1f and %.1f' % (alpha*100, lower, upper))\n",
        "\n"
      ],
      "execution_count": 1,
      "outputs": [
        {
          "output_type": "display_data",
          "data": {
            "image/png": "[encoded data removed]",
            "text/plain": [
              "<Figure size 432x288 with 1 Axes>"
            ]
          },
          "metadata": {
            "tags": [],
            "needs_background": "light"
          }
        },
        {
          "output_type": "stream",
          "text": [
            "95.0 confidence interval 162.0 and 176.0\n"
          ],
          "name": "stdout"
        }
      ]
    },
    {
      "cell_type": "code",
      "metadata": {
        "id": "0GdCL0KzYNZ_",
        "colab_type": "code",
        "colab": {}
      },
      "source": [
        ""
      ],
      "execution_count": null,
      "outputs": []
    }
  ]
}