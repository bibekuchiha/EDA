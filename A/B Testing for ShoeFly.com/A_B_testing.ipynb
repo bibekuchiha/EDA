{
  "nbformat": 4,
  "nbformat_minor": 0,
  "metadata": {
    "kernelspec": {
      "name": "python3",
      "display_name": "Python 3",
      "language": "python"
    },
    "language_info": {
      "name": "python",
      "version": "3.7.6",
      "mimetype": "text/x-python",
      "codemirror_mode": {
        "name": "ipython",
        "version": 3
      },
      "pygments_lexer": "ipython3",
      "nbconvert_exporter": "python",
      "file_extension": ".py"
    },
    "colab": {
      "name": "A/B-testing.ipynb",
      "provenance": [],
      "toc_visible": true,
      "include_colab_link": true
    }
  },
  "cells": [
    {
      "cell_type": "markdown",
      "metadata": {
        "id": "view-in-github",
        "colab_type": "text"
      },
      "source": [
        "<a href=\"https://colab.research.google.com/github/bibekuchiha/EDA/blob/master/A/B%20Testing%20for%20ShoeFly.com/A_B_testing.ipynb\" target=\"_parent\"><img src=\"https://colab.research.google.com/assets/colab-badge.svg\" alt=\"Open In Colab\"/></a>"
      ]
    },
    {
      "cell_type": "code",
      "metadata": {
        "_uuid": "d629ff2d2480ee46fbb7e2d37f6b5fab8052498a",
        "_cell_guid": "79c7e3d0-c299-4dcb-8224-4455121ee9b0",
        "trusted": true,
        "id": "eAJrpmlLq43Y",
        "colab_type": "code",
        "colab": {},
        "outputId": "1681e018-f8d8-49c8-a44c-91c7df41c6d3"
      },
      "source": [
        "import pandas as pd\n",
        "\n",
        "#Examine the first few rows of ad_clicks.\n",
        "ad_clicks = pd.read_csv('ad_clicks.csv')\n",
        "print(ad_clicks.head())"
      ],
      "execution_count": null,
      "outputs": [
        {
          "output_type": "stream",
          "text": [
            "                                user_id utm_source           day  \\\n",
            "0  008b7c6c-7272-471e-b90e-930d548bd8d7     google  6 - Saturday   \n",
            "1  009abb94-5e14-4b6c-bb1c-4f4df7aa7557   facebook    7 - Sunday   \n",
            "2  00f5d532-ed58-4570-b6d2-768df5f41aed    twitter   2 - Tuesday   \n",
            "3  011adc64-0f44-4fd9-a0bb-f1506d2ad439     google   2 - Tuesday   \n",
            "4  012137e6-7ae7-4649-af68-205b4702169c   facebook    7 - Sunday   \n",
            "\n",
            "  ad_click_timestamp experimental_group  \n",
            "0               7:18                  A  \n",
            "1                NaN                  B  \n",
            "2                NaN                  A  \n",
            "3                NaN                  B  \n",
            "4                NaN                  B  \n"
          ],
          "name": "stdout"
        }
      ]
    },
    {
      "cell_type": "markdown",
      "metadata": {
        "id": "7I_0QAvAq43e",
        "colab_type": "text"
      },
      "source": [
        "# Q. Your manager wants to know which ad platform is getting you the most views.\n",
        "\n",
        "## How many views (i.e., rows of the table) came from each utm_source?\n"
      ]
    },
    {
      "cell_type": "code",
      "metadata": {
        "trusted": true,
        "id": "jbScWifHq43f",
        "colab_type": "code",
        "colab": {},
        "outputId": "3734adf9-3dfe-4d24-85ad-2e9f144a1f41"
      },
      "source": [
        "most_views = ad_clicks.groupby('utm_source').count().user_id.reset_index()\n",
        "print(most_views)"
      ],
      "execution_count": null,
      "outputs": [
        {
          "output_type": "stream",
          "text": [
            "  utm_source  user_id\n",
            "0      email      255\n",
            "1   facebook      504\n",
            "2     google      680\n",
            "3    twitter      215\n"
          ],
          "name": "stdout"
        }
      ]
    },
    {
      "cell_type": "markdown",
      "metadata": {
        "id": "mtv5uO56q43k",
        "colab_type": "text"
      },
      "source": [
        "# Q. If the column ad_click_timestamp is not null, then someone actually clicked on the ad that was displayed. \n",
        "## Create a new column called is_click, which is True if ad_click_timestamp is not null and False otherwise."
      ]
    },
    {
      "cell_type": "code",
      "metadata": {
        "trusted": true,
        "id": "_0R2dH7Qq43l",
        "colab_type": "code",
        "colab": {},
        "outputId": "ddf9abcb-7581-4bb5-94a3-d94324d53421"
      },
      "source": [
        "ad_clicks['is_click'] = ~ad_clicks['ad_click_timestamp'].isnull()\n",
        "print(ad_clicks.head())\n"
      ],
      "execution_count": null,
      "outputs": [
        {
          "output_type": "stream",
          "text": [
            "                                user_id utm_source           day  \\\n",
            "0  008b7c6c-7272-471e-b90e-930d548bd8d7     google  6 - Saturday   \n",
            "1  009abb94-5e14-4b6c-bb1c-4f4df7aa7557   facebook    7 - Sunday   \n",
            "2  00f5d532-ed58-4570-b6d2-768df5f41aed    twitter   2 - Tuesday   \n",
            "3  011adc64-0f44-4fd9-a0bb-f1506d2ad439     google   2 - Tuesday   \n",
            "4  012137e6-7ae7-4649-af68-205b4702169c   facebook    7 - Sunday   \n",
            "\n",
            "  ad_click_timestamp experimental_group  is_click  \n",
            "0               7:18                  A      True  \n",
            "1                NaN                  B     False  \n",
            "2                NaN                  A     False  \n",
            "3                NaN                  B     False  \n",
            "4                NaN                  B     False  \n"
          ],
          "name": "stdout"
        }
      ]
    },
    {
      "cell_type": "markdown",
      "metadata": {
        "id": "YQnYuXUSq43u",
        "colab_type": "text"
      },
      "source": [
        "# Q. We want to know the percent of people who clicked on ads from each utm_source.Start by grouping by utm_source and is_click and counting the number of user_id‘s in each of those groups. Save your answer to the variable clicks_by_source."
      ]
    },
    {
      "cell_type": "code",
      "metadata": {
        "trusted": true,
        "id": "Y_gPUWkuq43v",
        "colab_type": "code",
        "colab": {},
        "outputId": "c98998b3-eeee-449b-f3c2-7b0eeb872ffc"
      },
      "source": [
        "clicks_by_source = ad_clicks.groupby(['utm_source','is_click']).user_id.count().reset_index()\n",
        "print(clicks_by_source)\n"
      ],
      "execution_count": null,
      "outputs": [
        {
          "output_type": "stream",
          "text": [
            "  utm_source  is_click  user_id\n",
            "0      email     False      175\n",
            "1      email      True       80\n",
            "2   facebook     False      324\n",
            "3   facebook      True      180\n",
            "4     google     False      441\n",
            "5     google      True      239\n",
            "6    twitter     False      149\n",
            "7    twitter      True       66\n"
          ],
          "name": "stdout"
        }
      ]
    },
    {
      "cell_type": "markdown",
      "metadata": {
        "id": "Gbh72DjOq430",
        "colab_type": "text"
      },
      "source": [
        "# Now let’s pivot the data so that the columns are is_click (either True or False), the index is utm_source, and the values are user_id.\n",
        "\n",
        "## Save your results to the variable clicks_pivot."
      ]
    },
    {
      "cell_type": "code",
      "metadata": {
        "trusted": true,
        "id": "JClSNvOkq431",
        "colab_type": "code",
        "colab": {},
        "outputId": "ed09e722-b0e9-4534-ebd0-a704b20fb590"
      },
      "source": [
        "clicks_pivot =clicks_by_source.pivot(\n",
        "  columns ='is_click',\n",
        "  index ='utm_source',\n",
        "  values='user_id'\n",
        ").reset_index()\n",
        "print(clicks_pivot)"
      ],
      "execution_count": null,
      "outputs": [
        {
          "output_type": "stream",
          "text": [
            "is_click utm_source  False  True\n",
            "0             email    175    80\n",
            "1          facebook    324   180\n",
            "2            google    441   239\n",
            "3           twitter    149    66\n"
          ],
          "name": "stdout"
        }
      ]
    },
    {
      "cell_type": "markdown",
      "metadata": {
        "id": "BgFKHHQdq437",
        "colab_type": "text"
      },
      "source": [
        "# Create a new column in clicks_pivot called percent_clicked which is equal to the percent of users who clicked on the ad from each utm_source.\n",
        "\n",
        "## Was there a difference in click rates for each source?"
      ]
    },
    {
      "cell_type": "code",
      "metadata": {
        "trusted": true,
        "id": "zrzmEsIVq438",
        "colab_type": "code",
        "colab": {},
        "outputId": "3049cf42-4077-4d64-92a5-4875cb742584"
      },
      "source": [
        "clicks_pivot['percent_clicked'] = clicks_pivot[True] / (clicks_pivot[True] +  clicks_pivot[False])*100\n",
        "print(clicks_pivot)"
      ],
      "execution_count": null,
      "outputs": [
        {
          "output_type": "stream",
          "text": [
            "is_click utm_source  False  True  percent_clicked\n",
            "0             email    175    80        31.372549\n",
            "1          facebook    324   180        35.714286\n",
            "2            google    441   239        35.147059\n",
            "3           twitter    149    66        30.697674\n"
          ],
          "name": "stdout"
        }
      ]
    },
    {
      "cell_type": "markdown",
      "metadata": {
        "id": "GEUZeuCkq44C",
        "colab_type": "text"
      },
      "source": [
        "# Analyzing an A/B Test\n",
        "## The column experimental_group tells us whether the user was shown Ad A or Ad B.\n",
        "\n",
        "## Were approximately the same number of people shown both adds?"
      ]
    },
    {
      "cell_type": "code",
      "metadata": {
        "trusted": true,
        "id": "RfIsxz_6q44C",
        "colab_type": "code",
        "colab": {},
        "outputId": "e12cf6dd-b463-43d1-d59b-835ae8c4d6d9"
      },
      "source": [
        "print(ad_clicks.groupby('experimental_group').user_id.count().reset_index())\n"
      ],
      "execution_count": null,
      "outputs": [
        {
          "output_type": "stream",
          "text": [
            "  experimental_group  user_id\n",
            "0                  A      827\n",
            "1                  B      827\n"
          ],
          "name": "stdout"
        }
      ]
    },
    {
      "cell_type": "markdown",
      "metadata": {
        "id": "UcD4rFaYq44G",
        "colab_type": "text"
      },
      "source": [
        "# Using the column is_click that we defined earlier, check to see if a greater percentage of users clicked on Ad A or Ad B."
      ]
    },
    {
      "cell_type": "code",
      "metadata": {
        "trusted": true,
        "id": "uLuHraHEq44H",
        "colab_type": "code",
        "colab": {},
        "outputId": "b788b5b2-12fe-4f74-9c50-5df4f0be3659"
      },
      "source": [
        "print(ad_clicks.groupby(['experimental_group','is_click']).user_id.count().reset_index().pivot(\n",
        "  columns = 'is_click',\n",
        "  index ='experimental_group',\n",
        "  values ='user_id'\n",
        ").reset_index())"
      ],
      "execution_count": null,
      "outputs": [
        {
          "output_type": "stream",
          "text": [
            "is_click experimental_group  False  True\n",
            "0                         A    517   310\n",
            "1                         B    572   255\n"
          ],
          "name": "stdout"
        }
      ]
    },
    {
      "cell_type": "markdown",
      "metadata": {
        "id": "w1eDZfMAq44M",
        "colab_type": "text"
      },
      "source": [
        "# The Product Manager for the A/B test thinks that the clicks might have changed by day of the week.\n",
        "\n",
        "## Start by creating two DataFrames: a_clicks and b_clicks, which contain only the results for A group and B group, respectively."
      ]
    },
    {
      "cell_type": "code",
      "metadata": {
        "trusted": true,
        "id": "DvWOLF7-q44N",
        "colab_type": "code",
        "colab": {}
      },
      "source": [
        "a_clicks = ad_clicks[ad_clicks.experimental_group == 'A']\n",
        "b_clicks = ad_clicks[ad_clicks.experimental_group == 'B']\n"
      ],
      "execution_count": null,
      "outputs": []
    },
    {
      "cell_type": "markdown",
      "metadata": {
        "id": "eyeSCYoGq44R",
        "colab_type": "text"
      },
      "source": [
        "# For each group (a_clicks and b_clicks), calculate the percent of users who clicked on the ad by day."
      ]
    },
    {
      "cell_type": "code",
      "metadata": {
        "trusted": true,
        "id": "dR7Er999q44S",
        "colab_type": "code",
        "colab": {},
        "outputId": "0aa57ced-5707-42a2-f0ca-3de99bed7c73"
      },
      "source": [
        "\n",
        "a_clicks_pivot= a_clicks.groupby(['is_click','day']).user_id.count().reset_index().pivot(\n",
        "  columns = 'is_click',\n",
        "  index ='day',\n",
        "  values = 'user_id'\n",
        ").reset_index()\n",
        "\n",
        "a_clicks_pivot['percentage']=a_clicks_pivot[True]/(a_clicks_pivot[True]+a_clicks_pivot[False])\n",
        "print(a_clicks_pivot)\n",
        "\n",
        "b_clicks_pivot= b_clicks.groupby(['is_click','day']).user_id.count().reset_index().pivot(\n",
        "  columns = 'is_click',\n",
        "  index ='day',\n",
        "  values = 'user_id'\n",
        ").reset_index()\n",
        "\n",
        "b_clicks_pivot['percentage']=b_clicks_pivot[True]/(b_clicks_pivot[True]+b_clicks_pivot[False])\n",
        "print(b_clicks_pivot)"
      ],
      "execution_count": null,
      "outputs": [
        {
          "output_type": "stream",
          "text": [
            "is_click            day  False  True  percentage\n",
            "0            1 - Monday     70    43    0.380531\n",
            "1           2 - Tuesday     76    43    0.361345\n",
            "2         3 - Wednesday     86    38    0.306452\n",
            "3          4 - Thursday     69    47    0.405172\n",
            "4            5 - Friday     77    51    0.398438\n",
            "5          6 - Saturday     73    45    0.381356\n",
            "6            7 - Sunday     66    43    0.394495\n",
            "is_click            day  False  True  percentage\n",
            "0            1 - Monday     81    32    0.283186\n",
            "1           2 - Tuesday     74    45    0.378151\n",
            "2         3 - Wednesday     89    35    0.282258\n",
            "3          4 - Thursday     87    29    0.250000\n",
            "4            5 - Friday     90    38    0.296875\n",
            "5          6 - Saturday     76    42    0.355932\n",
            "6            7 - Sunday     75    34    0.311927\n"
          ],
          "name": "stdout"
        }
      ]
    },
    {
      "cell_type": "markdown",
      "metadata": {
        "id": "2AiUtmipq44W",
        "colab_type": "text"
      },
      "source": [
        "# Compare the results for A and B. What happened over the course of the week?\n",
        "\n",
        "## Do you recommend that your company use Ad A or Ad B?\n"
      ]
    },
    {
      "cell_type": "markdown",
      "metadata": {
        "id": "PYJKgiERq44X",
        "colab_type": "text"
      },
      "source": [
        "# By comparing the above table we can say that Experiment A is more effective than experiment B"
      ]
    }
  ]
}