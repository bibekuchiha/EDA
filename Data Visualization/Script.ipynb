{
  "nbformat": 4,
  "nbformat_minor": 0,
  "metadata": {
    "colab": {
      "name": "Script.ipynb",
      "provenance": [],
      "authorship_tag": "ABX9TyNFN9P8g7xvZW3nmlO8XOPt",
      "include_colab_link": true
    },
    "kernelspec": {
      "name": "python3",
      "display_name": "Python 3"
    }
  },
  "cells": [
    {
      "cell_type": "markdown",
      "metadata": {
        "id": "view-in-github",
        "colab_type": "text"
      },
      "source": [
        "<a href=\"https://colab.research.google.com/github/bibekuchiha/EDA/blob/master/Data%20Visualization/Script.ipynb\" target=\"_parent\"><img src=\"https://colab.research.google.com/assets/colab-badge.svg\" alt=\"Open In Colab\"/></a>"
      ]
    },
    {
      "cell_type": "markdown",
      "metadata": {
        "id": "GIDm5TgaV0l9",
        "colab_type": "text"
      },
      "source": [
        "# Traveling to Acadia\n",
        "\n",
        "In this project, we will use flower bloom data, and flight information to recommend the best time of year for someone to make a trip to Maine.\n",
        "\n",
        "\n",
        "* in_bloom is a NumPy array containing 900 numbers. Each number is a day of the year, which represents the average start date of a flower blooming.\n",
        "\n",
        "* flights is a NumPy array with 11,000 numbers. Each number is a day of the year, which represents a flight from your hometown to airports near Acadia, Maine.\n",
        "\n",
        "Our goal is to create two histograms, each displaying the frequency of an occurrence each day of the year (either flights or flower blooms).\n",
        "\n",
        "We will use the in_bloom variable to find a count of the number of flowers that start blooming each day of the year.\n",
        "\n",
        "We will use the flights variable to find a count of the number of flights that occur each day of the year."
      ]
    },
    {
      "cell_type": "code",
      "metadata": {
        "id": "nULLOf6pUgX1",
        "colab_type": "code",
        "colab": {}
      },
      "source": [
        "import numpy as np\n",
        "from matplotlib import pyplot as plt"
      ],
      "execution_count": 1,
      "outputs": []
    },
    {
      "cell_type": "code",
      "metadata": {
        "id": "uSgqPXJrUhVb",
        "colab_type": "code",
        "colab": {}
      },
      "source": [
        "# load in data\n",
        "in_bloom = np.loadtxt(open(\"in-bloom.csv\"), delimiter=\",\")\n",
        "flights = np.loadtxt(open(\"flights.csv\"), delimiter=\",\")"
      ],
      "execution_count": 3,
      "outputs": []
    },
    {
      "cell_type": "code",
      "metadata": {
        "id": "bdtLMd5zVUqh",
        "colab_type": "code",
        "colab": {
          "base_uri": "https://localhost:8080/",
          "height": 268
        },
        "outputId": "df46c3fd-d61f-43b1-8fe7-d08d5866200f"
      },
      "source": [
        "# Plot the histograms\n",
        "f = plt.figure(figsize=(12,7))\n",
        "plt.figure(1)\n",
        "plt.subplot(211)\n",
        "plt.hist(flights, range=(0, 365), bins = 365, edgecolor='black')\n",
        "plt.title(\"Flights by Day\")\n",
        "plt.xlabel(\"Day of the Year\")\n",
        "plt.ylabel(\"Flight Count\")"
      ],
      "execution_count": 8,
      "outputs": [
        {
          "output_type": "execute_result",
          "data": {
            "text/plain": [
              "Text(0, 0.5, 'Flight Count')"
            ]
          },
          "metadata": {
            "tags": []
          },
          "execution_count": 8
        },
        {
          "output_type": "display_data",
          "data": {
            "image/png": "[encoded data removed]",
            "text/plain": [
              "<Figure size 864x504 with 1 Axes>"
            ]
          },
          "metadata": {
            "tags": [],
            "needs_background": "light"
          }
        }
      ]
    },
    {
      "cell_type": "code",
      "metadata": {
        "id": "A0Xbm0ADVXt2",
        "colab_type": "code",
        "colab": {
          "base_uri": "https://localhost:8080/",
          "height": 290
        },
        "outputId": "17d55e2c-7bc4-48f0-9135-97b5f33791eb"
      },
      "source": [
        "f = plt.figure(figsize=(12,7))\n",
        "plt.subplot(212)\n",
        "plt.hist(in_bloom, range=(0, 365), bins = 365)\n",
        "plt.title(\"Flower Blooms and Flights by Day\")\n",
        "plt.ylabel(\"Bloom Count\")\n",
        "plt.xlabel(\"Day of the Year\")\n",
        "plt.tight_layout()"
      ],
      "execution_count": 7,
      "outputs": [
        {
          "output_type": "display_data",
          "data": {
            "image/png": "[encoded data removed]",
            "text/plain": [
              "<Figure size 864x504 with 1 Axes>"
            ]
          },
          "metadata": {
            "tags": [],
            "needs_background": "light"
          }
        }
      ]
    },
    {
      "cell_type": "markdown",
      "metadata": {
        "id": "tM6EeHm3VwM3",
        "colab_type": "text"
      },
      "source": [
        "Based on these histograms, I would propose they go between days 250 and 300, which is the Fall. The flight’s histogram shows fewer flights between these days, while the flowers histogram indicates there should be a number of flowers in bloom during this time"
      ]
    }
  ]
}