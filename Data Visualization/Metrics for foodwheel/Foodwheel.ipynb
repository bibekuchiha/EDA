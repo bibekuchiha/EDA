{
  "nbformat": 4,
  "nbformat_minor": 0,
  "metadata": {
    "colab": {
      "name": "Foodwheel.ipynb",
      "provenance": [],
      "authorship_tag": "ABX9TyNk35E//YMjShpzmmNSgSQG",
      "include_colab_link": true
    },
    "kernelspec": {
      "name": "python3",
      "display_name": "Python 3"
    }
  },
  "cells": [
    {
      "cell_type": "markdown",
      "metadata": {
        "id": "view-in-github",
        "colab_type": "text"
      },
      "source": [
        "<a href=\"https://colab.research.google.com/github/bibekuchiha/EDA/blob/master/Data%20Visualization/Metrics%20for%20foodwheel/Foodwheel.ipynb\" target=\"_parent\"><img src=\"https://colab.research.google.com/assets/colab-badge.svg\" alt=\"Open In Colab\"/></a>"
      ]
    },
    {
      "cell_type": "markdown",
      "metadata": {
        "id": "F6DFLFoLPOXq",
        "colab_type": "text"
      },
      "source": [
        "#Project: Board Slides for FoodWheel\n",
        "\n",
        "FoodWheel is a startup delivery service that takes away the struggle of deciding where to eat! FoodWheel picks you an amazing local restaurant and lets you order through the app. Senior leadership is getting ready for a big board meeting, and as the resident Data Analyst, you have been enlisted to help decipher data and create a presentation to answer several key questions:\n",
        "\n",
        "* What cuisines does FoodWheel offer? Which areas should the company search for more restaurants to partner with?\n",
        "* How has the average order amount changed over time? What does this say about the trajectory of the company?\n",
        "* How much has each customer on FoodWheel spent over the past six months? What can this tell us about the average FoodWheel customer?\n",
        "* Over this project, you will analyze several DataFrames and create several visualizations to help answer these questions."
      ]
    },
    {
      "cell_type": "markdown",
      "metadata": {
        "id": "sq3d70B_PeHU",
        "colab_type": "text"
      },
      "source": [
        "#FoodWheel: Let the Food Choose For You\n",
        "##What cuisines does FoodWheel offer?"
      ]
    },
    {
      "cell_type": "code",
      "metadata": {
        "id": "XvG7oQMMPM_y",
        "colab_type": "code",
        "colab": {
          "base_uri": "https://localhost:8080/",
          "height": 272
        },
        "outputId": "bf910811-c6e1-4a76-d520-101f4d00cf77"
      },
      "source": [
        "import pandas as pd\n",
        "import matplotlib.pyplot as plt\n",
        "\n",
        "restaurants = pd.read_csv('restaurants.csv')\n",
        "\n",
        "print(restaurants.head())\n",
        "\n",
        "cuisine_options_count = restaurants.cuisine.nunique()\n",
        "print(\"There are \"+str(cuisine_options_count) +' options for cuisine')\n",
        "\n",
        "cuisine_counts = restaurants.groupby('cuisine')['name'].count().reset_index()\n",
        "print('The number of restaurants of each cuisine are :'+str(cuisine_counts))"
      ],
      "execution_count": 2,
      "outputs": [
        {
          "output_type": "stream",
          "text": [
            "   id                name neighborhood  cuisine\n",
            "0   1          Jongro BBQ      Midtown   Korean\n",
            "1   2            Pocha 32      Midtown   Korean\n",
            "2   3  Nom Wah Tea Parlor    Chinatown  Chinese\n",
            "3   4           Roberta’s     Brooklyn    Pizza\n",
            "4   5        Speedy Romeo     Brooklyn    Pizza\n",
            "There are 7 options for cuisine\n",
            "The number of restaurants of each cuisine are :      cuisine  name\n",
            "0    American    10\n",
            "1     Chinese    11\n",
            "2     Italian     8\n",
            "3    Japanese     4\n",
            "4      Korean     3\n",
            "5       Pizza     4\n",
            "6  Vegetarian     4\n"
          ],
          "name": "stdout"
        }
      ]
    },
    {
      "cell_type": "code",
      "metadata": {
        "id": "UMsqHYneRCWe",
        "colab_type": "code",
        "colab": {
          "base_uri": "https://localhost:8080/",
          "height": 267
        },
        "outputId": "4e11a19a-bf23-40c2-a41f-87af2464f2c0"
      },
      "source": [
        "cuisine_counts = restaurants.groupby('cuisine')\\\n",
        "                            .name.count()\\\n",
        "                            .reset_index()\n",
        "\n",
        "cuisines = cuisine_counts.cuisine.values\n",
        "counts = cuisine_counts.name.values\n",
        "\n",
        "\n",
        "plt.pie(counts,\n",
        "        labels=cuisines,\n",
        "       autopct='%d%%')\n",
        "plt.title('FoodWheel')\n",
        "plt.axis('equal')\n",
        "plt.show()"
      ],
      "execution_count": 3,
      "outputs": [
        {
          "output_type": "display_data",
          "data": {
            "image/png": "[encoded data removed]",
            "text/plain": [
              "<Figure size 432x288 with 1 Axes>"
            ]
          },
          "metadata": {
            "tags": []
          }
        }
      ]
    },
    {
      "cell_type": "markdown",
      "metadata": {
        "id": "OSsnxZ0lQ68e",
        "colab_type": "text"
      },
      "source": [
        "##Orders Over Time\n",
        "\n",
        "*  How has the average order amount changed over time?\n",
        "*  What does this say about the trajectory of the company?"
      ]
    },
    {
      "cell_type": "code",
      "metadata": {
        "id": "G5sg_dv5RWKR",
        "colab_type": "code",
        "colab": {
          "base_uri": "https://localhost:8080/",
          "height": 459
        },
        "outputId": "7b119ef4-44af-4400-aa6b-6b5b25b9b024"
      },
      "source": [
        "orders = pd.read_csv('orders.csv')\n",
        "\n",
        "print(orders.head())\n",
        "\n",
        "orders['month'] = orders.date.apply(lambda x: x.split('-')[0])\n",
        "\n",
        "print(orders.head())\n",
        "\n",
        "avg_order = orders.groupby('month').price.mean().reset_index()\n",
        "\n",
        "print(avg_order)\n",
        "\n",
        "std_order = orders.groupby('month').price.std().reset_index()\n",
        "print(std_order)"
      ],
      "execution_count": 15,
      "outputs": [
        {
          "output_type": "stream",
          "text": [
            "   id  customer_id       date  price\n",
            "0   1           61  6-18-2017   13.0\n",
            "1   2          210   5-8-2017   21.0\n",
            "2   3            0   9-7-2017   33.0\n",
            "3   4           66   7-7-2017   19.0\n",
            "4   5           65  4-26-2017   13.0\n",
            "   id  customer_id       date  price month\n",
            "0   1           61  6-18-2017   13.0     6\n",
            "1   2          210   5-8-2017   21.0     5\n",
            "2   3            0   9-7-2017   33.0     9\n",
            "3   4           66   7-7-2017   19.0     7\n",
            "4   5           65  4-26-2017   13.0     4\n",
            "  month      price\n",
            "0     4   9.609195\n",
            "1     5  14.858824\n",
            "2     6  15.152174\n",
            "3     7  18.012821\n",
            "4     8  21.150685\n",
            "5     9  29.505882\n",
            "  month     price\n",
            "0     4  2.562504\n",
            "1     5  3.395210\n",
            "2     6  2.835934\n",
            "3     7  2.848985\n",
            "4     8  4.455556\n",
            "5     9  4.518806\n"
          ],
          "name": "stdout"
        }
      ]
    },
    {
      "cell_type": "code",
      "metadata": {
        "id": "eYQ1Ad-wSLjN",
        "colab_type": "code",
        "colab": {
          "base_uri": "https://localhost:8080/",
          "height": 281
        },
        "outputId": "5d8ccfe8-309a-48fe-baa7-03d98f350912"
      },
      "source": [
        "\n",
        "ax = plt.subplot()\n",
        "bar_heights = avg_order.price\n",
        "bar_errors = std_order.price\n",
        "\n",
        "plt.bar(range(len(bar_heights)),\n",
        "  \t\t\tbar_heights,\n",
        "        yerr=bar_errors,\n",
        "       capsize=5)\n",
        "ax.set_xticks(range(len(bar_heights)))\n",
        "ax.set_xticklabels(['April', 'May', 'June', 'July', 'August', 'September'])\n",
        "plt.ylabel('Average Order Amount')\n",
        "plt.title('Order Amount over Time')\n",
        "plt.show()"
      ],
      "execution_count": 17,
      "outputs": [
        {
          "output_type": "display_data",
          "data": {
            "image/png": "[encoded data removed]",
            "text/plain": [
              "<Figure size 432x288 with 1 Axes>"
            ]
          },
          "metadata": {
            "tags": [],
            "needs_background": "light"
          }
        }
      ]
    },
    {
      "cell_type": "code",
      "metadata": {
        "id": "IPgbV5uIRgAO",
        "colab_type": "code",
        "colab": {}
      },
      "source": [
        ""
      ],
      "execution_count": null,
      "outputs": []
    },
    {
      "cell_type": "markdown",
      "metadata": {
        "id": "HpvSJtuWSYxg",
        "colab_type": "text"
      },
      "source": [
        "#Customer Types\n",
        "There is a range of amounts that customers spend on FoodWheel. Let’s investigate and aim to answer our final question:\n",
        "\n",
        "* How much has each customer on FoodWheel spent over the past six months? What can this tell us about the average FoodWheel customer?"
      ]
    },
    {
      "cell_type": "code",
      "metadata": {
        "id": "7-A24jsJSZkz",
        "colab_type": "code",
        "colab": {
          "base_uri": "https://localhost:8080/",
          "height": 119
        },
        "outputId": "4defb50d-dfec-477d-a65b-2b736eb36a5a"
      },
      "source": [
        "customer_amount = orders.groupby('customer_id').price.sum().reset_index()\n",
        "\n",
        "print(customer_amount.head())"
      ],
      "execution_count": 19,
      "outputs": [
        {
          "output_type": "stream",
          "text": [
            "   customer_id  price\n",
            "0            0   83.0\n",
            "1            2   11.0\n",
            "2            3   65.0\n",
            "3            4   32.0\n",
            "4            5  119.0\n"
          ],
          "name": "stdout"
        }
      ]
    },
    {
      "cell_type": "code",
      "metadata": {
        "id": "3ife46BDSc-l",
        "colab_type": "code",
        "colab": {
          "base_uri": "https://localhost:8080/",
          "height": 295
        },
        "outputId": "670b4442-1e4f-4bf9-d145-e7d02205e376"
      },
      "source": [
        "plt.hist(customer_amount.price.values,\n",
        "        range=(0, 200), bins=40)\n",
        "plt.xlabel('Total Spent')\n",
        "plt.ylabel(\"Number of Customers\")\n",
        "plt.title('Customer Expenditure Over 6 Months')\n",
        "\n",
        "plt.show()"
      ],
      "execution_count": 20,
      "outputs": [
        {
          "output_type": "display_data",
          "data": {
            "image/png": "[encoded data removed]",
            "text/plain": [
              "<Figure size 432x288 with 1 Axes>"
            ]
          },
          "metadata": {
            "tags": [],
            "needs_background": "light"
          }
        }
      ]
    },
    {
      "cell_type": "code",
      "metadata": {
        "id": "FAzAYYwESiSx",
        "colab_type": "code",
        "colab": {}
      },
      "source": [
        ""
      ],
      "execution_count": null,
      "outputs": []
    }
  ]
}