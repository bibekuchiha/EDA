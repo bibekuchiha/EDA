{
  "nbformat": 4,
  "nbformat_minor": 0,
  "metadata": {
    "colab": {
      "name": "Election Results.ipynb",
      "provenance": [],
      "authorship_tag": "ABX9TyOlVqEqxABpZYQlI8sc7j36",
      "include_colab_link": true
    },
    "kernelspec": {
      "name": "python3",
      "display_name": "Python 3"
    }
  },
  "cells": [
    {
      "cell_type": "markdown",
      "metadata": {
        "id": "view-in-github",
        "colab_type": "text"
      },
      "source": [
        "<a href=\"https://colab.research.google.com/github/bibekuchiha/EDA/blob/master/Data%20Visualization/Election%20Results/Election_Results.ipynb\" target=\"_parent\"><img src=\"https://colab.research.google.com/assets/colab-badge.svg\" alt=\"Open In Colab\"/></a>"
      ]
    },
    {
      "cell_type": "code",
      "metadata": {
        "id": "RBzjoPW324dt",
        "colab_type": "code",
        "colab": {
          "base_uri": "https://localhost:8080/",
          "height": 119
        },
        "outputId": "67a2ad6c-0b77-4949-8a39-308bfde894e2"
      },
      "source": [
        "#importing libraries\n",
        "import numpy as np\n",
        "import matplotlib.pyplot as plt\n",
        "\n",
        "survey_responses = ['Ceballos', 'Kerrigan', 'Ceballos', 'Ceballos', 'Ceballos','Kerrigan', 'Kerrigan', 'Ceballos', 'Ceballos', 'Ceballos', \n",
        "'Kerrigan', 'Kerrigan', 'Ceballos', 'Ceballos', 'Kerrigan', 'Kerrigan', 'Ceballos', 'Ceballos', 'Kerrigan', 'Kerrigan', 'Kerrigan', 'Kerrigan', 'Kerrigan', 'Kerrigan', 'Ceballos', 'Ceballos', 'Ceballos', 'Ceballos', 'Ceballos', 'Ceballos',\n",
        "'Kerrigan', 'Kerrigan', 'Ceballos', 'Ceballos', 'Ceballos', 'Kerrigan', 'Kerrigan', 'Ceballos', 'Ceballos', 'Kerrigan', 'Kerrigan', 'Ceballos', 'Ceballos', 'Kerrigan', 'Kerrigan', 'Kerrigan', 'Kerrigan', 'Kerrigan', 'Kerrigan', 'Ceballos',\n",
        "'Kerrigan', 'Kerrigan', 'Ceballos', 'Ceballos', 'Ceballos', 'Kerrigan', 'Kerrigan', 'Ceballos', 'Ceballos', 'Kerrigan', 'Kerrigan', 'Ceballos', 'Ceballos', 'Kerrigan', 'Kerrigan', 'Kerrigan', 'Kerrigan', 'Kerrigan', 'Kerrigan', 'Ceballos']\n",
        "\n",
        "\n"
      ],
      "execution_count": 15,
      "outputs": [
        {
          "output_type": "stream",
          "text": [
            "33\n",
            "70\n",
            "47.142857142857146\n",
            "0.2134\n",
            "[0.53514286 0.53885714 0.54571429 ... 0.54385714 0.53671429 0.53942857]\n",
            "0.0\n"
          ],
          "name": "stdout"
        }
      ]
    },
    {
      "cell_type": "code",
      "metadata": {
        "id": "Kfk2yn-F62kV",
        "colab_type": "code",
        "colab": {
          "base_uri": "https://localhost:8080/",
          "height": 51
        },
        "outputId": "1ae9e441-25ba-4afa-c4cd-d783a81949bf"
      },
      "source": [
        "#Calculate the number of people who answered ‘Ceballos’\n",
        "total_ceballos = sum([1 for n in survey_responses if n == 'Ceballos'])\n",
        "print(total_ceballos)\n",
        "survey_length = len(survey_responses)\n",
        "print(survey_length) "
      ],
      "execution_count": 16,
      "outputs": [
        {
          "output_type": "stream",
          "text": [
            "33\n",
            "70\n"
          ],
          "name": "stdout"
        }
      ]
    },
    {
      "cell_type": "code",
      "metadata": {
        "id": "ufKvD4zY65ip",
        "colab_type": "code",
        "colab": {
          "base_uri": "https://localhost:8080/",
          "height": 34
        },
        "outputId": "55da21a5-3868-4832-af56-34deed9fd9a8"
      },
      "source": [
        "#Calculate the percentage of people in the survey who voted for Ceballos \n",
        "percentage_ceballos =100 * total_ceballos/survey_length\n",
        "print(percentage_ceballos)"
      ],
      "execution_count": 17,
      "outputs": [
        {
          "output_type": "stream",
          "text": [
            "47.142857142857146\n"
          ],
          "name": "stdout"
        }
      ]
    },
    {
      "cell_type": "markdown",
      "metadata": {
        "id": "oygmYK2K50Pb",
        "colab_type": "text"
      },
      "source": [
        "In the real election, 54% of the 10,000 town population voted for Cynthia Ceballos. Your supervisors are concerned because this is a very different outcome than what the poll predicted. They want you to determine if there is something wrong with the poll or if given the sample size, it was an entirely reasonable result.\n",
        "\n",
        "Generate a binomial distribution that takes the number of total survey responses, the actual success rate, and the size of the town’s population as its parameters. Then divide the distribution by the number of survey responses. Save your calculation to the variable possible_surveys."
      ]
    },
    {
      "cell_type": "code",
      "metadata": {
        "id": "vq7lm4ZJ5yDZ",
        "colab_type": "code",
        "colab": {
          "base_uri": "https://localhost:8080/",
          "height": 34
        },
        "outputId": "58efc38c-beab-4d24-f3d0-9479f0cda990"
      },
      "source": [
        "possible_surveys = np.random.binomial(70, 0.54, 10000) / 70\n",
        "print(possible_surveys)"
      ],
      "execution_count": 11,
      "outputs": [
        {
          "output_type": "stream",
          "text": [
            "[0.47142857 0.42857143 0.51428571 ... 0.71428571 0.48571429 0.48571429]\n"
          ],
          "name": "stdout"
        }
      ]
    },
    {
      "cell_type": "code",
      "metadata": {
        "id": "jQRkGsqQ53aF",
        "colab_type": "code",
        "colab": {
          "base_uri": "https://localhost:8080/",
          "height": 265
        },
        "outputId": "4b4abc0f-0b12-40aa-dc00-cf7a5085a19c"
      },
      "source": [
        "#Plot a histogram of possible_surveys with a range of 0-1 and 20 bins.\n",
        "plt.hist(possible_surveys, range=(0,1),bins=20)\n",
        "plt.show()\n"
      ],
      "execution_count": 10,
      "outputs": [
        {
          "output_type": "display_data",
          "data": {
            "image/png": "[encoded data removed]",
            "text/plain": [
              "<Figure size 432x288 with 1 Axes>"
            ]
          },
          "metadata": {
            "tags": [],
            "needs_background": "light"
          }
        }
      ]
    },
    {
      "cell_type": "markdown",
      "metadata": {
        "id": "ZuWiwsL86Ese",
        "colab_type": "text"
      },
      "source": [
        "\n",
        "As we saw, 47% of people we surveyed said they would vote for Ceballos, but 54% of people voted for Ceballos in the actual election.\n",
        "\n",
        "Calculate the percentage of surveys that could have an outcome of Ceballos receiving less than 50% of the vote and save it to the variable ceballos_loss_surveys."
      ]
    },
    {
      "cell_type": "code",
      "metadata": {
        "id": "JYbTl3w-6FY7",
        "colab_type": "code",
        "colab": {
          "base_uri": "https://localhost:8080/",
          "height": 34
        },
        "outputId": "f9d51cf6-412c-426c-c50c-218ab92cfa0d"
      },
      "source": [
        "\n",
        "possible_survey_length = float(len(possible_surveys))\n",
        "incorrect_predictions = len(possible_surveys[possible_surveys < .5])\n",
        "ceballos_loss_surveys = incorrect_predictions /possible_survey_length\n",
        "print(ceballos_loss_surveys)"
      ],
      "execution_count": 12,
      "outputs": [
        {
          "output_type": "stream",
          "text": [
            "0.2134\n"
          ],
          "name": "stdout"
        }
      ]
    },
    {
      "cell_type": "markdown",
      "metadata": {
        "id": "ety7cG1q6PCK",
        "colab_type": "text"
      },
      "source": [
        "\n",
        "With this current poll, about 20% of the time a survey output would predict Kerrigan winning, even if Ceballos won the actual election.\n",
        "\n",
        "Your co-worker points out that your poll would be more accurate if it had more responders.\n",
        "\n",
        "Generate another binomial distribution, but this time, see what would happen if you had instead surveyed 7,000 people. Divide the distribution by the size of the survey and save your findings to large_survey."
      ]
    },
    {
      "cell_type": "code",
      "metadata": {
        "id": "6fkJKbNa6LS_",
        "colab_type": "code",
        "colab": {
          "base_uri": "https://localhost:8080/",
          "height": 34
        },
        "outputId": "4c58c164-651e-47e0-fe80-068eb86ae6be"
      },
      "source": [
        "large_survey_length = float(7000)\n",
        "large_survey = np.random.binomial(large_survey_length, 0.54, size=10000)/large_survey_length\n",
        "print(large_survey)"
      ],
      "execution_count": 13,
      "outputs": [
        {
          "output_type": "stream",
          "text": [
            "[0.53757143 0.54057143 0.53171429 ... 0.53542857 0.54071429 0.53957143]\n"
          ],
          "name": "stdout"
        }
      ]
    },
    {
      "cell_type": "markdown",
      "metadata": {
        "id": "p66iG2lC6XGa",
        "colab_type": "text"
      },
      "source": [
        "Now, recalculate the percentage of surveys that would have an outcome of Ceballos losing and save it to the variable ceballos_loss_new"
      ]
    },
    {
      "cell_type": "code",
      "metadata": {
        "id": "iwETACIp6TRO",
        "colab_type": "code",
        "colab": {
          "base_uri": "https://localhost:8080/",
          "height": 34
        },
        "outputId": "1765b155-1ecd-47cf-bcae-f2d3a5716b10"
      },
      "source": [
        "incorrect_prediction = len(large_survey[large_survey < .5])\n",
        "ceballos_loss_new = incorrect_prediction /large_survey_length\n",
        "print(ceballos_loss_new)"
      ],
      "execution_count": 14,
      "outputs": [
        {
          "output_type": "stream",
          "text": [
            "0.0\n"
          ],
          "name": "stdout"
        }
      ]
    },
    {
      "cell_type": "code",
      "metadata": {
        "id": "uP_tdEyi6Z_z",
        "colab_type": "code",
        "colab": {}
      },
      "source": [
        ""
      ],
      "execution_count": null,
      "outputs": []
    }
  ]
}