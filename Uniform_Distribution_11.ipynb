{
  "nbformat": 4,
  "nbformat_minor": 0,
  "metadata": {
    "colab": {
      "name": "Uniform Distribution.11.ipynb",
      "provenance": [],
      "include_colab_link": true
    },
    "kernelspec": {
      "display_name": "Python 3",
      "language": "python",
      "name": "python3"
    }
  },
  "cells": [
    {
      "cell_type": "markdown",
      "metadata": {
        "id": "view-in-github",
        "colab_type": "text"
      },
      "source": [
        "<a href=\"https://colab.research.google.com/github/bibekuchiha/EDA/blob/master/Uniform_Distribution_11.ipynb\" target=\"_parent\"><img src=\"https://colab.research.google.com/assets/colab-badge.svg\" alt=\"Open In Colab\"/></a>"
      ]
    },
    {
      "cell_type": "markdown",
      "metadata": {
        "id": "VkOOg33M2iJp",
        "colab_type": "text"
      },
      "source": [
        "# Random Number Generator (Uniform Distribution)\n"
      ]
    },
    {
      "cell_type": "code",
      "metadata": {
        "id": "0rPnWXup2iJq",
        "colab_type": "code",
        "colab": {
          "base_uri": "https://localhost:8080/",
          "height": 34
        },
        "outputId": "e0ca1ac9-9266-4df7-9a1f-5998dbc778d6"
      },
      "source": [
        "import random\n",
        "print(random.random())"
      ],
      "execution_count": null,
      "outputs": [
        {
          "output_type": "stream",
          "text": [
            "0.0985642708963369\n"
          ],
          "name": "stdout"
        }
      ]
    },
    {
      "cell_type": "code",
      "metadata": {
        "id": "QPzivAyl2iJw",
        "colab_type": "code",
        "colab": {
          "base_uri": "https://localhost:8080/",
          "height": 34
        },
        "outputId": "ad873e7a-f9c6-4ff5-d024-8b876bd1bc80"
      },
      "source": [
        "#load IRIS dataset with 150 points.\n",
        "from sklearn import datasets\n",
        "iris = datasets.load_iris()\n",
        "d = iris.data\n",
        "d.shape\n",
        "print(d[0])"
      ],
      "execution_count": null,
      "outputs": [
        {
          "output_type": "stream",
          "text": [
            "[5.1 3.5 1.4 0.2]\n"
          ],
          "name": "stdout"
        }
      ]
    },
    {
      "cell_type": "code",
      "metadata": {
        "id": "ZRP6Getl2iJz",
        "colab_type": "code",
        "colab": {
          "base_uri": "https://localhost:8080/",
          "height": 71
        },
        "outputId": "6adaa48f-20ba-43df-f834-7064cf8ebb4a"
      },
      "source": [
        "# Sample 30 points randomly from the 150 point dataset\n",
        "n=150\n",
        "m=30\n",
        "p = m/n\n",
        "print(p)\n",
        "sampled_data =[];\n",
        "\n",
        "for i in range(0,n):\n",
        "  a = random.random()\n",
        "#   print(a)\n",
        "  if  a <= p:\n",
        "    sampled_data.append(d[i,:])\n",
        "    \n",
        "print(sampled_data)"
      ],
      "execution_count": null,
      "outputs": [
        {
          "output_type": "stream",
          "text": [
            "0.2\n",
            "[array([4.8, 3.4, 1.6, 0.2]), array([4.3, 3. , 1.1, 0.1]), array([4.6, 3.6, 1. , 0.2]), array([5.5, 4.2, 1.4, 0.2]), array([5. , 3.2, 1.2, 0.2]), array([5.5, 3.5, 1.3, 0.2]), array([5. , 3.5, 1.3, 0.3]), array([4.6, 3.2, 1.4, 0.2]), array([6.4, 3.2, 4.5, 1.5]), array([5.2, 2.7, 3.9, 1.4]), array([5.9, 3.2, 4.8, 1.8]), array([6.7, 3. , 5. , 1.7]), array([5.7, 2.6, 3.5, 1. ]), array([5.8, 2.7, 5.1, 1.9]), array([4.9, 2.5, 4.5, 1.7]), array([6.4, 3.2, 5.3, 2.3]), array([7.7, 2.6, 6.9, 2.3]), array([6.9, 3.2, 5.7, 2.3]), array([7.4, 2.8, 6.1, 1.9]), array([6.4, 2.8, 5.6, 2.2]), array([6.1, 2.6, 5.6, 1.4]), array([6.3, 3.4, 5.6, 2.4]), array([6.4, 3.1, 5.5, 1.8]), array([6. , 3. , 4.8, 1.8]), array([6.9, 3.1, 5.1, 2.3])]\n"
          ],
          "name": "stdout"
        }
      ]
    }
  ]
}