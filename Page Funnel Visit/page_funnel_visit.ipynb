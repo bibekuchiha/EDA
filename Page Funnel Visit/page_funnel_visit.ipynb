{
  "nbformat": 4,
  "nbformat_minor": 0,
  "metadata": {
    "colab": {
      "name": "page_funnel_visit.ipynb",
      "provenance": [],
      "authorship_tag": "ABX9TyPKGzGEHnY1RPpttWpIhrsu",
      "include_colab_link": true
    },
    "kernelspec": {
      "name": "python3",
      "display_name": "Python 3"
    }
  },
  "cells": [
    {
      "cell_type": "markdown",
      "metadata": {
        "id": "view-in-github",
        "colab_type": "text"
      },
      "source": [
        "<a href=\"https://colab.research.google.com/github/bibekuchiha/EDA/blob/master/Page%20Funnel%20Visit/page_funnel_visit.ipynb\" target=\"_parent\"><img src=\"https://colab.research.google.com/assets/colab-badge.svg\" alt=\"Open In Colab\"/></a>"
      ]
    },
    {
      "cell_type": "markdown",
      "metadata": {
        "id": "fthbr3rU6sct",
        "colab_type": "text"
      },
      "source": [
        "# Page Visits Funnel\n",
        "Cool T-Shirts Inc. has asked to analyze data on visits to their website. Our job is to build a funnel, which is a description of how many people continue to the next step of a multi-step process.\n",
        "\n",
        "In this case, our funnel is going to describe the following process:\n",
        "\n",
        "\n",
        "* A user visits CoolTShirts.com\n",
        "\n",
        "*  A user adds a t-shirt to their cart\n",
        "\n",
        "\n",
        "*  A user clicks “checkout”\n",
        "\n",
        "*  A user actually purchases a t-shirt\n",
        "\n"
      ]
    },
    {
      "cell_type": "code",
      "metadata": {
        "id": "qoJJSDCx3TFa",
        "colab_type": "code",
        "colab": {}
      },
      "source": [
        "#importing libraries and dataset\n",
        "import pandas as pd\n",
        "\n",
        "visits = pd.read_csv('visits.csv', parse_dates=[1])\n",
        "\n",
        "cart = pd.read_csv('cart.csv',parse_dates=[1])\n",
        "                   \n",
        "checkout = pd.read_csv('checkout.csv', parse_dates=[1])\n",
        "                       \n",
        "purchase = pd.read_csv('purchase.csv', parse_dates=[1])\n",
        "                      "
      ],
      "execution_count": 5,
      "outputs": []
    },
    {
      "cell_type": "markdown",
      "metadata": {
        "id": "-Y8Xuavf4oRh",
        "colab_type": "text"
      },
      "source": [
        "Inspect the DataFrames using print and head:\n",
        "\n",
        "1. cart lists all of the users who have added a t-shirt to their cart\n",
        "2.   checkout lists all of the users who have started the checkout\n",
        "3.   purchase lists all of the users who have purchased a t-shirt\n",
        "4. visits lists all of the users who have visited the website\n",
        "\n",
        "\n",
        "\n",
        "\n"
      ]
    },
    {
      "cell_type": "code",
      "metadata": {
        "id": "99SUIaV649s3",
        "colab_type": "code",
        "colab": {
          "base_uri": "https://localhost:8080/",
          "height": 425
        },
        "outputId": "5e0f4f18-63a0-4baa-b594-93951d758764"
      },
      "source": [
        "print(visits.head())\n",
        "print(cart.head())\n",
        "print(checkout.head())\n",
        "print(purchase.head())"
      ],
      "execution_count": 6,
      "outputs": [
        {
          "output_type": "stream",
          "text": [
            "                                user_id          visit_time\n",
            "0  943647ef-3682-4750-a2e1-918ba6f16188 2017-04-07 15:14:00\n",
            "1  0c3a3dd0-fb64-4eac-bf84-ba069ce409f2 2017-01-26 14:24:00\n",
            "2  6e0b2d60-4027-4d9a-babd-0e7d40859fb1 2017-08-20 08:23:00\n",
            "3  6879527e-c5a6-4d14-b2da-50b85212b0ab 2017-11-04 18:15:00\n",
            "4  a84327ff-5daa-4ba1-b789-d5b4caf81e96 2017-02-27 11:25:00\n",
            "                                user_id           cart_time\n",
            "0  2be90e7c-9cca-44e0-bcc5-124b945ff168 2017-11-07 20:45:00\n",
            "1  4397f73f-1da3-4ab3-91af-762792e25973 2017-05-27 01:35:00\n",
            "2  a9db3d4b-0a0a-4398-a55a-ebb2c7adf663 2017-03-04 10:38:00\n",
            "3  b594862a-36c5-47d5-b818-6e9512b939b3 2017-09-27 08:22:00\n",
            "4  a68a16e2-94f0-4ce8-8ce3-784af0bbb974 2017-07-26 15:48:00\n",
            "                                user_id       checkout_time\n",
            "0  d33bdc47-4afa-45bc-b4e4-dbe948e34c0d 2017-06-25 09:29:00\n",
            "1  4ac186f0-9954-4fea-8a27-c081e428e34e 2017-04-07 20:11:00\n",
            "2  3c9c78a7-124a-4b77-8d2e-e1926e011e7d 2017-07-13 11:38:00\n",
            "3  89fe330a-8966-4756-8f7c-3bdbcd47279a 2017-04-20 16:15:00\n",
            "4  3ccdaf69-2d30-40de-b083-51372881aedd 2017-01-08 20:52:00\n",
            "                                user_id       purchase_time\n",
            "0  4b44ace4-2721-47a0-b24b-15fbfa2abf85 2017-05-11 04:25:00\n",
            "1  02e684ae-a448-408f-a9ff-dcb4a5c99aac 2017-09-05 08:45:00\n",
            "2  4b4bc391-749e-4b90-ab8f-4f6e3c84d6dc 2017-11-20 20:49:00\n",
            "3  a5dbb25f-3c36-4103-9030-9f7c6241cd8d 2017-01-22 15:18:00\n",
            "4  46a3186d-7f5a-4ab9-87af-84d05bfd4867 2017-06-11 11:32:00\n"
          ],
          "name": "stdout"
        }
      ]
    },
    {
      "cell_type": "code",
      "metadata": {
        "id": "rpRewoC-5HCj",
        "colab_type": "code",
        "colab": {
          "base_uri": "https://localhost:8080/",
          "height": 255
        },
        "outputId": "3ad6d5c4-332e-406d-9d32-0b69ae18be6e"
      },
      "source": [
        "#Combine visits and cart using a left merge.\n",
        "df_visits_cart = pd.merge(visits, cart, how='left')\n",
        "print(df_visits_cart)"
      ],
      "execution_count": 7,
      "outputs": [
        {
          "output_type": "stream",
          "text": [
            "                                   user_id  ...           cart_time\n",
            "0     943647ef-3682-4750-a2e1-918ba6f16188  ...                 NaT\n",
            "1     0c3a3dd0-fb64-4eac-bf84-ba069ce409f2  ... 2017-01-26 14:44:00\n",
            "2     6e0b2d60-4027-4d9a-babd-0e7d40859fb1  ... 2017-08-20 08:31:00\n",
            "3     6e0b2d60-4027-4d9a-babd-0e7d40859fb1  ... 2017-08-20 08:49:00\n",
            "4     6879527e-c5a6-4d14-b2da-50b85212b0ab  ...                 NaT\n",
            "...                                    ...  ...                 ...\n",
            "2047  33913ac2-03da-45ae-8fc3-fea39df827c6  ...                 NaT\n",
            "2048  4f850132-b99d-4623-80e6-6e61d003577e  ...                 NaT\n",
            "2049  f0830b9b-1f5c-4e74-b63d-3f847cc6ce70  ...                 NaT\n",
            "2050  b01bffa7-63ba-4cd3-9d93-eb1477c23831  ...                 NaT\n",
            "2051  0336ca81-8d68-443f-9248-ac0b8ad147d5  ...                 NaT\n",
            "\n",
            "[2052 rows x 3 columns]\n"
          ],
          "name": "stdout"
        }
      ]
    },
    {
      "cell_type": "code",
      "metadata": {
        "id": "hcH8dZST5Qv7",
        "colab_type": "code",
        "colab": {
          "base_uri": "https://localhost:8080/",
          "height": 34
        },
        "outputId": "95319c78-8391-462e-9e9c-b3e8b5c1c2c7"
      },
      "source": [
        "#length is a merged DataFrame\n",
        "print(len(df_visits_cart))\n"
      ],
      "execution_count": 8,
      "outputs": [
        {
          "output_type": "stream",
          "text": [
            "2052\n"
          ],
          "name": "stdout"
        }
      ]
    },
    {
      "cell_type": "code",
      "metadata": {
        "id": "e6mG5VfQ5XNv",
        "colab_type": "code",
        "colab": {
          "base_uri": "https://localhost:8080/",
          "height": 34
        },
        "outputId": "20d12c1b-0505-49b0-e5ce-51effab3cb18"
      },
      "source": [
        "#How many of the timestamps are null for the column cart_time?\n",
        "null_in_cart = df_visits_cart[df_visits_cart['cart_time'].isnull()]\n",
        "cart_null = len(null_in_cart)\n",
        "print(cart_null)"
      ],
      "execution_count": 9,
      "outputs": [
        {
          "output_type": "stream",
          "text": [
            "1652\n"
          ],
          "name": "stdout"
        }
      ]
    },
    {
      "cell_type": "code",
      "metadata": {
        "id": "lRpuHTLo5f7S",
        "colab_type": "code",
        "colab": {
          "base_uri": "https://localhost:8080/",
          "height": 34
        },
        "outputId": "026f6e43-3769-40d7-9711-2cc8540b039a"
      },
      "source": [
        "#What percent of users who visited Cool T-Shirts Inc. ended up not placing a t-shirt in their cart?\n",
        "\n",
        "percentage_not_buying = 1.0 * (cart_null)/(len(df_visits_cart)) *100\n",
        "print('{0} percent of users visited Cool T-Shirts Inc. ended up not placing a t-shirt in their cart'.format(percentage_not_buying))\n"
      ],
      "execution_count": 10,
      "outputs": [
        {
          "output_type": "stream",
          "text": [
            "80.50682261208577 percent of users visited Cool T-Shirts Inc. ended up not placing a t-shirt in their cart\n"
          ],
          "name": "stdout"
        }
      ]
    },
    {
      "cell_type": "code",
      "metadata": {
        "id": "Dw8spokJ5rNI",
        "colab_type": "code",
        "colab": {
          "base_uri": "https://localhost:8080/",
          "height": 51
        },
        "outputId": "3f51d6a5-0f17-496e-878b-dd112a73a82b"
      },
      "source": [
        "#What percentage of users put items in their cart, but did not proceed to checkout?\n",
        "df_cart_checkout = pd.merge(cart,checkout, how='left')\n",
        "null_in_checkout = df_cart_checkout[df_cart_checkout['checkout_time'].isnull()]\n",
        "checkout_null = len(null_in_checkout)\n",
        "print(checkout_null)\n",
        "percentage_cart_not_buy = 1.0 *(checkout_null)/(len(df_cart_checkout))*100\n",
        "print(str(percentage_cart_not_buy)+\" percentage of users put items in their cart, but did not proceed to checkout\")"
      ],
      "execution_count": 11,
      "outputs": [
        {
          "output_type": "stream",
          "text": [
            "126\n",
            "20.930232558139537 percentage of users put items in their cart, but did not proceed to checkout\n"
          ],
          "name": "stdout"
        }
      ]
    },
    {
      "cell_type": "code",
      "metadata": {
        "id": "KvSrikAm53uw",
        "colab_type": "code",
        "colab": {
          "base_uri": "https://localhost:8080/",
          "height": 153
        },
        "outputId": "ca560157-1ac4-4df8-d134-02ca0dccb44c"
      },
      "source": [
        "#Merge all four steps of the funnel, in order, using a series of left merges. Save the results to the variable all_data.\n",
        "all_data = visits.merge(cart, how='left').merge(checkout, how='left').merge(purchase, how='left')\n",
        "print(all_data.head())"
      ],
      "execution_count": 12,
      "outputs": [
        {
          "output_type": "stream",
          "text": [
            "                                user_id  ...       purchase_time\n",
            "0  943647ef-3682-4750-a2e1-918ba6f16188  ...                 NaT\n",
            "1  0c3a3dd0-fb64-4eac-bf84-ba069ce409f2  ... 2017-01-26 15:08:00\n",
            "2  6e0b2d60-4027-4d9a-babd-0e7d40859fb1  ...                 NaT\n",
            "3  6e0b2d60-4027-4d9a-babd-0e7d40859fb1  ...                 NaT\n",
            "4  6879527e-c5a6-4d14-b2da-50b85212b0ab  ...                 NaT\n",
            "\n",
            "[5 rows x 5 columns]\n"
          ],
          "name": "stdout"
        }
      ]
    },
    {
      "cell_type": "code",
      "metadata": {
        "id": "f05G46Wb6AFt",
        "colab_type": "code",
        "colab": {
          "base_uri": "https://localhost:8080/",
          "height": 51
        },
        "outputId": "2135c10e-aff9-4337-8b94-08f124fc1600"
      },
      "source": [
        "#What percentage of users proceeded to checkout, but did not purchase a t-shirt?\n",
        "df_checkout_purchase = pd.merge(checkout,purchase, how='left')\n",
        "#print(df_cart_purchase)\n",
        "\n",
        "print(len(df_checkout_purchase))\n",
        "\n",
        "null_in_purchase = df_checkout_purchase[df_checkout_purchase['purchase_time'].isnull()]\n",
        "purchase_null = len(null_in_purchase)\n",
        "\n",
        "percentage_not_purchase = 1.0 *(purchase_null)/(len(df_checkout_purchase)) * 100\n",
        "print(str(percentage_not_purchase)+\" percentage of users proceeded to checkout, but did not purchase a t-shirt.\")"
      ],
      "execution_count": 13,
      "outputs": [
        {
          "output_type": "stream",
          "text": [
            "598\n",
            "16.88963210702341 percentage of users proceeded to checkout, but did not purchase a t-shirt.\n"
          ],
          "name": "stdout"
        }
      ]
    },
    {
      "cell_type": "code",
      "metadata": {
        "id": "kTo8X27E6Lea",
        "colab_type": "code",
        "colab": {}
      },
      "source": [
        "#Using the giant merged DataFrame all_data that you created, let’s calculate the average time from initial visit to final purchase.\n",
        "all_data['time_to_purchase'] = \\\n",
        "    all_data.purchase_time - \\\n",
        "    all_data.visit_time"
      ],
      "execution_count": 14,
      "outputs": []
    },
    {
      "cell_type": "code",
      "metadata": {
        "id": "FnGjIn_G6VCT",
        "colab_type": "code",
        "colab": {
          "base_uri": "https://localhost:8080/",
          "height": 221
        },
        "outputId": "d716e16b-4ec4-494d-bd33-597b2302a5af"
      },
      "source": [
        "print(all_data.time_to_purchase)\n"
      ],
      "execution_count": 15,
      "outputs": [
        {
          "output_type": "stream",
          "text": [
            "0           NaT\n",
            "1      00:44:00\n",
            "2           NaT\n",
            "3           NaT\n",
            "4           NaT\n",
            "         ...   \n",
            "2589        NaT\n",
            "2590        NaT\n",
            "2591        NaT\n",
            "2592        NaT\n",
            "2593        NaT\n",
            "Name: time_to_purchase, Length: 2594, dtype: timedelta64[ns]\n"
          ],
          "name": "stdout"
        }
      ]
    },
    {
      "cell_type": "code",
      "metadata": {
        "id": "dJHAGAbX6brP",
        "colab_type": "code",
        "colab": {
          "base_uri": "https://localhost:8080/",
          "height": 34
        },
        "outputId": "04f10fd8-4d66-4cb5-bd68-8f58598fbf9f"
      },
      "source": [
        "#Calculate the average time to purchase\n",
        "print(all_data.time_to_purchase.mean())\n"
      ],
      "execution_count": 16,
      "outputs": [
        {
          "output_type": "stream",
          "text": [
            "0 days 00:44:02.672413\n"
          ],
          "name": "stdout"
        }
      ]
    }
  ]
}