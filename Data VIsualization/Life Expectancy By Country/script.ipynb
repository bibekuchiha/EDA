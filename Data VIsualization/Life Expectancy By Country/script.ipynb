{
  "nbformat": 4,
  "nbformat_minor": 0,
  "metadata": {
    "colab": {
      "name": "script.ipynb",
      "provenance": [],
      "authorship_tag": "ABX9TyP692onV7tfn2/uOaXweV78",
      "include_colab_link": true
    },
    "kernelspec": {
      "name": "python3",
      "display_name": "Python 3"
    }
  },
  "cells": [
    {
      "cell_type": "markdown",
      "metadata": {
        "id": "view-in-github",
        "colab_type": "text"
      },
      "source": [
        "<a href=\"https://colab.research.google.com/github/bibekuchiha/EDA/blob/master/Data%20VIsualization/Life%20Expectancy%20By%20Country/script.ipynb\" target=\"_parent\"><img src=\"https://colab.research.google.com/assets/colab-badge.svg\" alt=\"Open In Colab\"/></a>"
      ]
    },
    {
      "cell_type": "code",
      "metadata": {
        "id": "bBajUXiQOhuy",
        "colab_type": "code",
        "colab": {}
      },
      "source": [
        "import numpy as np\n",
        "import pandas as pd\n",
        "import matplotlib.pyplot as plt"
      ],
      "execution_count": 1,
      "outputs": []
    },
    {
      "cell_type": "code",
      "metadata": {
        "id": "2qPYz6IjO9Ej",
        "colab_type": "code",
        "colab": {
          "base_uri": "https://localhost:8080/",
          "height": 119
        },
        "outputId": "a33e4bb8-cd3b-42f9-b5dc-375272c48e38"
      },
      "source": [
        "data = pd.read_csv(\"country_data.csv\")\n",
        "print(data.head())"
      ],
      "execution_count": 2,
      "outputs": [
        {
          "output_type": "stream",
          "text": [
            "               Country  Life Expectancy          GDP\n",
            "0          Afghanistan         58.19375   340.015425\n",
            "1              Albania         75.15625  2119.726679\n",
            "2              Algeria         73.61875  2847.853392\n",
            "3               Angola         49.01875  1975.143045\n",
            "4  Antigua and Barbuda         75.05625  9759.305728\n"
          ],
          "name": "stdout"
        }
      ]
    },
    {
      "cell_type": "code",
      "metadata": {
        "id": "p2eZ0xISO_mN",
        "colab_type": "code",
        "colab": {
          "base_uri": "https://localhost:8080/",
          "height": 282
        },
        "outputId": "6298579a-2854-49b4-bad6-f0c7640173b9"
      },
      "source": [
        "life_expectancy = data['Life Expectancy']\n",
        "\n",
        "life_expectancy_quartiles = np.quantile(life_expectancy,[0.25, 0.5, 0.75])\n",
        "print(life_expectancy_quartiles)\n",
        "\n",
        "plt.hist(life_expectancy)\n",
        "plt.show()"
      ],
      "execution_count": 3,
      "outputs": [
        {
          "output_type": "stream",
          "text": [
            "[62.325     72.525     75.4421875]\n"
          ],
          "name": "stdout"
        },
        {
          "output_type": "display_data",
          "data": {
            "image/png": "[encoded data removed]",
            "text/plain": [
              "<Figure size 432x288 with 1 Axes>"
            ]
          },
          "metadata": {
            "tags": [],
            "needs_background": "light"
          }
        }
      ]
    },
    {
      "cell_type": "code",
      "metadata": {
        "id": "FHOd5a0oPDx8",
        "colab_type": "code",
        "colab": {
          "base_uri": "https://localhost:8080/",
          "height": 316
        },
        "outputId": "f648f5ae-c5ea-41c9-e174-d9f6734d6b36"
      },
      "source": [
        "gdp = data['GDP']\n",
        "\n",
        "median_gdp = np.quantile(gdp, 0.5)\n",
        "print(median_gdp)\n",
        "\n",
        "low_gdp = data[data['GDP'] <= median_gdp]\n",
        "\n",
        "high_gdp = data[data['GDP'] > median_gdp]\n",
        "\n",
        "low_gdp_quartiles = np.quantile(low_gdp['Life Expectancy'],[0.25,0.5,0.75])\n",
        "print(low_gdp_quartiles)\n",
        "high_gdp_quartiles = np.quantile(high_gdp['Life Expectancy'],[0.25,0.5,0.75])\n",
        "print(high_gdp_quartiles)\n",
        "\n",
        "plt.hist(high_gdp[\"Life Expectancy\"], alpha = 0.5, label = \"High GDP\")\n",
        "plt.hist(low_gdp[\"Life Expectancy\"], alpha = 0.5, label = \"Low GDP\")\n",
        "plt.legend()\n",
        "plt.show()\n"
      ],
      "execution_count": 4,
      "outputs": [
        {
          "output_type": "stream",
          "text": [
            "2938.0781152500003\n",
            "[56.3375  64.34375 71.7375 ]\n",
            "[72.965625 75.15625  80.521875]\n"
          ],
          "name": "stdout"
        },
        {
          "output_type": "display_data",
          "data": {
            "image/png": "[encoded data removed]",
            "text/plain": [
              "<Figure size 432x288 with 1 Axes>"
            ]
          },
          "metadata": {
            "tags": [],
            "needs_background": "light"
          }
        }
      ]
    },
    {
      "cell_type": "code",
      "metadata": {
        "id": "KC-541uLPHeX",
        "colab_type": "code",
        "colab": {}
      },
      "source": [
        ""
      ],
      "execution_count": null,
      "outputs": []
    }
  ]
}